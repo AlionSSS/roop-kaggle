{
 "cells": [
  {
   "cell_type": "markdown",
   "id": "09d2e3b2",
   "metadata": {
    "execution": {
     "iopub.execute_input": "2023-07-26T09:53:27.141883Z",
     "iopub.status.busy": "2023-07-26T09:53:27.14149Z",
     "iopub.status.idle": "2023-07-26T09:53:27.146534Z",
     "shell.execute_reply": "2023-07-26T09:53:27.145484Z",
     "shell.execute_reply.started": "2023-07-26T09:53:27.14185Z"
    },
    "papermill": {
     "duration": 0.006296,
     "end_time": "2023-07-26T15:43:34.691264",
     "exception": false,
     "start_time": "2023-07-26T15:43:34.684968",
     "status": "completed"
    },
    "tags": []
   },
   "source": [
    "## roop-kaggle"
   ]
  },
  {
   "cell_type": "markdown",
   "id": "30bdad8e",
   "metadata": {
    "papermill": {
     "duration": 0.005559,
     "end_time": "2023-07-26T15:43:34.702817",
     "exception": false,
     "start_time": "2023-07-26T15:43:34.697258",
     "status": "completed"
    },
    "tags": []
   },
   "source": [
    "- 建议使用GPU，点击右上角 “三个点” 的按钮，选择 “Accelerator”，选择 “GPU P100”"
   ]
  },
  {
   "cell_type": "markdown",
   "id": "6fa3f526",
   "metadata": {
    "papermill": {
     "duration": 0.00581,
     "end_time": "2023-07-26T15:43:34.714532",
     "exception": false,
     "start_time": "2023-07-26T15:43:34.708722",
     "status": "completed"
    },
    "tags": []
   },
   "source": [
    "## 下载样例图片和视频"
   ]
  },
  {
   "cell_type": "code",
   "execution_count": 1,
   "id": "98e62fe9",
   "metadata": {
    "execution": {
     "iopub.execute_input": "2023-07-26T15:43:34.729023Z",
     "iopub.status.busy": "2023-07-26T15:43:34.728176Z",
     "iopub.status.idle": "2023-07-26T15:43:39.545200Z",
     "shell.execute_reply": "2023-07-26T15:43:39.543794Z"
    },
    "papermill": {
     "duration": 4.827601,
     "end_time": "2023-07-26T15:43:39.547975",
     "exception": false,
     "start_time": "2023-07-26T15:43:34.720374",
     "status": "completed"
    },
    "tags": []
   },
   "outputs": [
    {
     "name": "stdout",
     "output_type": "stream",
     "text": [
      "/kaggle/working\n",
      "Cloning into 'roop-kaggle'...\r\n",
      "remote: Enumerating objects: 85, done.\u001b[K\r\n",
      "remote: Counting objects: 100% (85/85), done.\u001b[K\r\n",
      "remote: Compressing objects: 100% (63/63), done.\u001b[K\r\n",
      "remote: Total 85 (delta 23), reused 74 (delta 18), pack-reused 0\u001b[K\r\n",
      "Receiving objects: 100% (85/85), 38.56 MiB | 34.79 MiB/s, done.\r\n",
      "Resolving deltas: 100% (23/23), done.\r\n"
     ]
    }
   ],
   "source": [
    "%cd /kaggle/working \n",
    "!rm -rf /kaggle/working/roop-kaggle\n",
    "# 下载roop-kaggle项目\n",
    "!git clone https://github.com/AlionSSS/roop-kaggle.git"
   ]
  },
  {
   "cell_type": "code",
   "execution_count": 2,
   "id": "778f474a",
   "metadata": {
    "execution": {
     "iopub.execute_input": "2023-07-26T15:43:39.566353Z",
     "iopub.status.busy": "2023-07-26T15:43:39.565966Z",
     "iopub.status.idle": "2023-07-26T15:43:41.649943Z",
     "shell.execute_reply": "2023-07-26T15:43:41.648538Z"
    },
    "papermill": {
     "duration": 2.096308,
     "end_time": "2023-07-26T15:43:41.652744",
     "exception": false,
     "start_time": "2023-07-26T15:43:39.556436",
     "status": "completed"
    },
    "tags": []
   },
   "outputs": [
    {
     "name": "stdout",
     "output_type": "stream",
     "text": [
      "样例【图片】路径：\r\n",
      "/kaggle/working/roop-kaggle/resource/face_pictrue/looks_like_musk.png\r\n",
      "样例【视频】路径：\r\n",
      "/kaggle/working/roop-kaggle/resource/target_video/tony_trim_1.mp4\r\n",
      "/kaggle/working/roop-kaggle/resource/target_video/tony_trim_2.mp4\r\n"
     ]
    }
   ],
   "source": [
    "# 本项目数据集下的样例\n",
    "!echo \"样例【图片】路径：\" && ls -d /kaggle/working/roop-kaggle/resource/face_pictrue/*\n",
    "\n",
    "!echo \"样例【视频】路径：\" && ls -d /kaggle/working/roop-kaggle/resource/target_video/*"
   ]
  },
  {
   "cell_type": "markdown",
   "id": "c14808f3",
   "metadata": {
    "papermill": {
     "duration": 0.007932,
     "end_time": "2023-07-26T15:43:41.669295",
     "exception": false,
     "start_time": "2023-07-26T15:43:41.661363",
     "status": "completed"
    },
    "tags": []
   },
   "source": [
    "## 下载 roop 项目代码，切换到稳定的tag版本。"
   ]
  },
  {
   "cell_type": "code",
   "execution_count": 3,
   "id": "eb7ebea8",
   "metadata": {
    "execution": {
     "iopub.execute_input": "2023-07-26T15:43:41.687629Z",
     "iopub.status.busy": "2023-07-26T15:43:41.686612Z",
     "iopub.status.idle": "2023-07-26T15:43:45.647105Z",
     "shell.execute_reply": "2023-07-26T15:43:45.645859Z"
    },
    "papermill": {
     "duration": 3.972692,
     "end_time": "2023-07-26T15:43:45.649804",
     "exception": false,
     "start_time": "2023-07-26T15:43:41.677112",
     "status": "completed"
    },
    "tags": []
   },
   "outputs": [
    {
     "name": "stdout",
     "output_type": "stream",
     "text": [
      "Cloning into 'roop'...\r\n",
      "remote: Enumerating objects: 1420, done.\u001b[K\r\n",
      "remote: Counting objects: 100% (64/64), done.\u001b[K\r\n",
      "remote: Compressing objects: 100% (46/46), done.\u001b[K\r\n",
      "remote: Total 1420 (delta 28), reused 32 (delta 15), pack-reused 1356\u001b[K\r\n",
      "Receiving objects: 100% (1420/1420), 90.76 MiB | 40.80 MiB/s, done.\r\n",
      "Resolving deltas: 100% (845/845), done.\r\n"
     ]
    }
   ],
   "source": [
    "# 下载roop项目\n",
    "!git clone https://github.com/s0md3v/roop.git"
   ]
  },
  {
   "cell_type": "code",
   "execution_count": 4,
   "id": "fa8cbce1",
   "metadata": {
    "execution": {
     "iopub.execute_input": "2023-07-26T15:43:45.670330Z",
     "iopub.status.busy": "2023-07-26T15:43:45.669934Z",
     "iopub.status.idle": "2023-07-26T15:43:46.675236Z",
     "shell.execute_reply": "2023-07-26T15:43:46.674001Z"
    },
    "papermill": {
     "duration": 1.018671,
     "end_time": "2023-07-26T15:43:46.677663",
     "exception": false,
     "start_time": "2023-07-26T15:43:45.658992",
     "status": "completed"
    },
    "tags": []
   },
   "outputs": [
    {
     "name": "stdout",
     "output_type": "stream",
     "text": [
      "/kaggle/working/roop\n",
      "1.0.0\r\n",
      "1.1.0\r\n",
      "1.2.0\r\n",
      "1.3.0\r\n"
     ]
    }
   ],
   "source": [
    "# 进入到roop项目下\n",
    "%cd /kaggle/working/roop\n",
    "\n",
    "# 列出roop项目下已发布的tag，使用tag版本相对更稳定\n",
    "!git tag"
   ]
  },
  {
   "cell_type": "code",
   "execution_count": 5,
   "id": "fb71c74f",
   "metadata": {
    "execution": {
     "iopub.execute_input": "2023-07-26T15:43:46.698373Z",
     "iopub.status.busy": "2023-07-26T15:43:46.697439Z",
     "iopub.status.idle": "2023-07-26T15:43:47.727040Z",
     "shell.execute_reply": "2023-07-26T15:43:47.725723Z"
    },
    "papermill": {
     "duration": 1.042956,
     "end_time": "2023-07-26T15:43:47.729725",
     "exception": false,
     "start_time": "2023-07-26T15:43:46.686769",
     "status": "completed"
    },
    "tags": []
   },
   "outputs": [
    {
     "name": "stdout",
     "output_type": "stream",
     "text": [
      "Note: switching to '1.3.0'.\r\n",
      "\r\n",
      "You are in 'detached HEAD' state. You can look around, make experimental\r\n",
      "changes and commit them, and you can discard any commits you make in this\r\n",
      "state without impacting any branches by switching back to a branch.\r\n",
      "\r\n",
      "If you want to create a new branch to retain commits you create, you may\r\n",
      "do so (now or later) by using -c with the switch command. Example:\r\n",
      "\r\n",
      "  git switch -c <new-branch-name>\r\n",
      "\r\n",
      "Or undo this operation with:\r\n",
      "\r\n",
      "  git switch -\r\n",
      "\r\n",
      "Turn off this advice by setting config variable advice.detachedHead to false\r\n",
      "\r\n",
      "HEAD is now at 1422849 Hotfix quality range from 0-100\r\n"
     ]
    }
   ],
   "source": [
    "# 从上面列出的版本中选择需要的版本\n",
    "# 版本 1.3.0: 该版本如果要取消鉴黄，需要调整roop/predictor.py中的opennsfw2库相关代码。最简单的修改方法，把roop/predictor.py代码最前面定义的MAX_PROBABILITY，改成 MAX_PROBABILITY = 1 。\n",
    "version = \"1.3.0\"\n",
    "!git checkout $version"
   ]
  },
  {
   "cell_type": "markdown",
   "id": "fc65702f",
   "metadata": {
    "papermill": {
     "duration": 0.010043,
     "end_time": "2023-07-26T15:43:47.750469",
     "exception": false,
     "start_time": "2023-07-26T15:43:47.740426",
     "status": "completed"
    },
    "tags": []
   },
   "source": [
    "## 安装依赖库"
   ]
  },
  {
   "cell_type": "code",
   "execution_count": 6,
   "id": "2761f9d1",
   "metadata": {
    "execution": {
     "iopub.execute_input": "2023-07-26T15:43:47.773136Z",
     "iopub.status.busy": "2023-07-26T15:43:47.772704Z",
     "iopub.status.idle": "2023-07-26T15:43:51.393567Z",
     "shell.execute_reply": "2023-07-26T15:43:51.392207Z"
    },
    "papermill": {
     "duration": 3.635423,
     "end_time": "2023-07-26T15:43:51.396180",
     "exception": false,
     "start_time": "2023-07-26T15:43:47.760757",
     "status": "completed"
    },
    "tags": []
   },
   "outputs": [
    {
     "name": "stdout",
     "output_type": "stream",
     "text": [
      "Found existing installation: opencv-python 4.8.0.74\r\n",
      "Uninstalling opencv-python-4.8.0.74:\r\n",
      "  Successfully uninstalled opencv-python-4.8.0.74\r\n"
     ]
    }
   ],
   "source": [
    "# kaggle上的opencv有点问题，需要卸载\n",
    "!pip uninstall opencv-python -y"
   ]
  },
  {
   "cell_type": "code",
   "execution_count": 7,
   "id": "26de92a0",
   "metadata": {
    "execution": {
     "iopub.execute_input": "2023-07-26T15:43:51.419882Z",
     "iopub.status.busy": "2023-07-26T15:43:51.419493Z",
     "iopub.status.idle": "2023-07-26T15:43:52.415137Z",
     "shell.execute_reply": "2023-07-26T15:43:52.413832Z"
    },
    "papermill": {
     "duration": 1.010553,
     "end_time": "2023-07-26T15:43:52.417703",
     "exception": false,
     "start_time": "2023-07-26T15:43:51.407150",
     "status": "completed"
    },
    "tags": []
   },
   "outputs": [
    {
     "name": "stdout",
     "output_type": "stream",
     "text": [
      "--extra-index-url https://download.pytorch.org/whl/cu118\r\n",
      "\r\n",
      "numpy==1.23.5\r\n",
      "opencv-python==4.8.0.74\r\n",
      "onnx==1.14.0\r\n",
      "insightface==0.7.3\r\n",
      "psutil==5.9.5\r\n",
      "tk==0.1.0\r\n",
      "customtkinter==5.2.0\r\n",
      "tkinterdnd2==0.3.0; sys_platform != 'darwin' and platform_machine != 'arm64'\r\n",
      "tkinterdnd2-universal==1.7.3; sys_platform == 'darwin' and platform_machine == 'arm64'\r\n",
      "pillow==10.0.0\r\n",
      "torch==2.0.1+cu118; sys_platform != 'darwin'\r\n",
      "torch==2.0.1; sys_platform == 'darwin'\r\n",
      "torchvision==0.15.2+cu118; sys_platform != 'darwin'\r\n",
      "torchvision==0.15.2; sys_platform == 'darwin'\r\n",
      "onnxruntime==1.15.1; python_version != '3.9' and sys_platform == 'darwin' and platform_machine != 'arm64'\r\n",
      "onnxruntime-coreml==1.13.1; python_version == '3.9' and sys_platform == 'darwin' and platform_machine != 'arm64'\r\n",
      "onnxruntime-silicon==1.13.1; sys_platform == 'darwin' and platform_machine == 'arm64'\r\n",
      "onnxruntime-gpu==1.15.1; sys_platform != 'darwin'\r\n",
      "tensorflow==2.13.0\r\n",
      "opennsfw2==0.10.2\r\n",
      "protobuf==4.23.4\r\n",
      "tqdm==4.65.0\r\n",
      "gfpgan==1.3.8"
     ]
    }
   ],
   "source": [
    "# 看一下roop需要安装的依赖库\n",
    "!cat requirements.txt"
   ]
  },
  {
   "cell_type": "code",
   "execution_count": 8,
   "id": "838e57ba",
   "metadata": {
    "execution": {
     "iopub.execute_input": "2023-07-26T15:43:52.442177Z",
     "iopub.status.busy": "2023-07-26T15:43:52.441762Z",
     "iopub.status.idle": "2023-07-26T15:48:58.099282Z",
     "shell.execute_reply": "2023-07-26T15:48:58.097723Z"
    },
    "papermill": {
     "duration": 305.674241,
     "end_time": "2023-07-26T15:48:58.102055",
     "exception": false,
     "start_time": "2023-07-26T15:43:52.427814",
     "status": "completed"
    },
    "tags": []
   },
   "outputs": [
    {
     "name": "stdout",
     "output_type": "stream",
     "text": [
      "Looking in indexes: https://pypi.org/simple, https://download.pytorch.org/whl/cu118\r\n",
      "Ignoring tkinterdnd2-universal: markers 'sys_platform == \"darwin\" and platform_machine == \"arm64\"' don't match your environment\r\n",
      "Ignoring torch: markers 'sys_platform == \"darwin\"' don't match your environment\r\n",
      "Ignoring torchvision: markers 'sys_platform == \"darwin\"' don't match your environment\r\n",
      "Ignoring onnxruntime: markers 'python_version != \"3.9\" and sys_platform == \"darwin\" and platform_machine != \"arm64\"' don't match your environment\r\n",
      "Ignoring onnxruntime-coreml: markers 'python_version == \"3.9\" and sys_platform == \"darwin\" and platform_machine != \"arm64\"' don't match your environment\r\n",
      "Ignoring onnxruntime-silicon: markers 'sys_platform == \"darwin\" and platform_machine == \"arm64\"' don't match your environment\r\n",
      "Requirement already satisfied: numpy==1.23.5 in /opt/conda/lib/python3.10/site-packages (from -r requirements.txt (line 3)) (1.23.5)\r\n",
      "Collecting opencv-python==4.8.0.74 (from -r requirements.txt (line 4))\r\n",
      "  Downloading opencv_python-4.8.0.74-cp37-abi3-manylinux_2_17_x86_64.manylinux2014_x86_64.whl (61.7 MB)\r\n",
      "\u001b[2K     \u001b[90m━━━━━━━━━━━━━━━━━━━━━━━━━━━━━━━━━━━━━━━━\u001b[0m \u001b[32m61.7/61.7 MB\u001b[0m \u001b[31m18.2 MB/s\u001b[0m eta \u001b[36m0:00:00\u001b[0m\r\n",
      "\u001b[?25hRequirement already satisfied: onnx==1.14.0 in /opt/conda/lib/python3.10/site-packages (from -r requirements.txt (line 5)) (1.14.0)\r\n",
      "Collecting insightface==0.7.3 (from -r requirements.txt (line 6))\r\n",
      "  Downloading insightface-0.7.3.tar.gz (439 kB)\r\n",
      "\u001b[2K     \u001b[90m━━━━━━━━━━━━━━━━━━━━━━━━━━━━━━━━━━━━━━\u001b[0m \u001b[32m439.5/439.5 kB\u001b[0m \u001b[31m34.7 MB/s\u001b[0m eta \u001b[36m0:00:00\u001b[0m\r\n",
      "\u001b[?25h  Installing build dependencies ... \u001b[?25l-\b \b\\\b \b|\b \b/\b \b-\b \b\\\b \b|\b \b/\b \b-\b \bdone\r\n",
      "\u001b[?25h  Getting requirements to build wheel ... \u001b[?25l-\b \b\\\b \bdone\r\n",
      "\u001b[?25h  Installing backend dependencies ... \u001b[?25l-\b \b\\\b \b|\b \bdone\r\n",
      "\u001b[?25h  Preparing metadata (pyproject.toml) ... \u001b[?25l-\b \bdone\r\n",
      "\u001b[?25hCollecting psutil==5.9.5 (from -r requirements.txt (line 7))\r\n",
      "  Downloading psutil-5.9.5-cp36-abi3-manylinux_2_12_x86_64.manylinux2010_x86_64.manylinux_2_17_x86_64.manylinux2014_x86_64.whl (282 kB)\r\n",
      "\u001b[2K     \u001b[90m━━━━━━━━━━━━━━━━━━━━━━━━━━━━━━━━━━━━━━\u001b[0m \u001b[32m282.1/282.1 kB\u001b[0m \u001b[31m22.9 MB/s\u001b[0m eta \u001b[36m0:00:00\u001b[0m\r\n",
      "\u001b[?25hCollecting tk==0.1.0 (from -r requirements.txt (line 8))\r\n",
      "  Downloading tk-0.1.0-py3-none-any.whl (3.9 kB)\r\n",
      "Collecting customtkinter==5.2.0 (from -r requirements.txt (line 9))\r\n",
      "  Downloading customtkinter-5.2.0-py3-none-any.whl (295 kB)\r\n",
      "\u001b[2K     \u001b[90m━━━━━━━━━━━━━━━━━━━━━━━━━━━━━━━━━━━━━━\u001b[0m \u001b[32m295.6/295.6 kB\u001b[0m \u001b[31m25.9 MB/s\u001b[0m eta \u001b[36m0:00:00\u001b[0m\r\n",
      "\u001b[?25hCollecting tkinterdnd2==0.3.0 (from -r requirements.txt (line 10))\r\n",
      "  Downloading tkinterdnd2-0.3.0-py3-none-any.whl (386 kB)\r\n",
      "\u001b[2K     \u001b[90m━━━━━━━━━━━━━━━━━━━━━━━━━━━━━━━━━━━━━━\u001b[0m \u001b[32m386.7/386.7 kB\u001b[0m \u001b[31m30.8 MB/s\u001b[0m eta \u001b[36m0:00:00\u001b[0m\r\n",
      "\u001b[?25hCollecting pillow==10.0.0 (from -r requirements.txt (line 12))\r\n",
      "  Downloading Pillow-10.0.0-cp310-cp310-manylinux_2_28_x86_64.whl (3.4 MB)\r\n",
      "\u001b[2K     \u001b[90m━━━━━━━━━━━━━━━━━━━━━━━━━━━━━━━━━━━━━━━━\u001b[0m \u001b[32m3.4/3.4 MB\u001b[0m \u001b[31m74.3 MB/s\u001b[0m eta \u001b[36m0:00:00\u001b[0m\r\n",
      "\u001b[?25hCollecting torch==2.0.1+cu118 (from -r requirements.txt (line 13))\r\n",
      "  Downloading https://download.pytorch.org/whl/cu118/torch-2.0.1%2Bcu118-cp310-cp310-linux_x86_64.whl (2267.3 MB)\r\n",
      "\u001b[2K     \u001b[90m━━━━━━━━━━━━━━━━━━━━━━━━━━━━━━━━━━━━━━━━\u001b[0m \u001b[32m2.3/2.3 GB\u001b[0m \u001b[31m503.2 kB/s\u001b[0m eta \u001b[36m0:00:00\u001b[0m\r\n",
      "\u001b[?25hCollecting torchvision==0.15.2+cu118 (from -r requirements.txt (line 15))\r\n",
      "  Downloading https://download.pytorch.org/whl/cu118/torchvision-0.15.2%2Bcu118-cp310-cp310-linux_x86_64.whl (6.1 MB)\r\n",
      "\u001b[2K     \u001b[90m━━━━━━━━━━━━━━━━━━━━━━━━━━━━━━━━━━━━━━━━\u001b[0m \u001b[32m6.1/6.1 MB\u001b[0m \u001b[31m72.0 MB/s\u001b[0m eta \u001b[36m0:00:00\u001b[0m\r\n",
      "\u001b[?25hCollecting onnxruntime-gpu==1.15.1 (from -r requirements.txt (line 20))\r\n",
      "  Downloading onnxruntime_gpu-1.15.1-cp310-cp310-manylinux_2_17_x86_64.manylinux2014_x86_64.whl (121.6 MB)\r\n",
      "\u001b[2K     \u001b[90m━━━━━━━━━━━━━━━━━━━━━━━━━━━━━━━━━━━━━━\u001b[0m \u001b[32m121.6/121.6 MB\u001b[0m \u001b[31m10.5 MB/s\u001b[0m eta \u001b[36m0:00:00\u001b[0m\r\n",
      "\u001b[?25hCollecting tensorflow==2.13.0 (from -r requirements.txt (line 21))\r\n",
      "  Downloading tensorflow-2.13.0-cp310-cp310-manylinux_2_17_x86_64.manylinux2014_x86_64.whl (524.1 MB)\r\n",
      "\u001b[2K     \u001b[90m━━━━━━━━━━━━━━━━━━━━━━━━━━━━━━━━━━━━━━━\u001b[0m \u001b[32m524.1/524.1 MB\u001b[0m \u001b[31m1.6 MB/s\u001b[0m eta \u001b[36m0:00:00\u001b[0m\r\n",
      "\u001b[?25hCollecting opennsfw2==0.10.2 (from -r requirements.txt (line 22))\r\n",
      "  Downloading opennsfw2-0.10.2-py3-none-any.whl (12 kB)\r\n",
      "Collecting protobuf==4.23.4 (from -r requirements.txt (line 23))\r\n",
      "  Downloading protobuf-4.23.4-cp37-abi3-manylinux2014_x86_64.whl (304 kB)\r\n",
      "\u001b[2K     \u001b[90m━━━━━━━━━━━━━━━━━━━━━━━━━━━━━━━━━━━━━━\u001b[0m \u001b[32m304.5/304.5 kB\u001b[0m \u001b[31m25.1 MB/s\u001b[0m eta \u001b[36m0:00:00\u001b[0m\r\n",
      "\u001b[?25hRequirement already satisfied: tqdm==4.65.0 in /opt/conda/lib/python3.10/site-packages (from -r requirements.txt (line 24)) (4.65.0)\r\n",
      "Collecting gfpgan==1.3.8 (from -r requirements.txt (line 25))\r\n",
      "  Downloading gfpgan-1.3.8-py3-none-any.whl (52 kB)\r\n",
      "\u001b[2K     \u001b[90m━━━━━━━━━━━━━━━━━━━━━━━━━━━━━━━━━━━━━━━━\u001b[0m \u001b[32m52.2/52.2 kB\u001b[0m \u001b[31m4.4 MB/s\u001b[0m eta \u001b[36m0:00:00\u001b[0m\r\n",
      "\u001b[?25hRequirement already satisfied: typing-extensions>=3.6.2.1 in /opt/conda/lib/python3.10/site-packages (from onnx==1.14.0->-r requirements.txt (line 5)) (4.6.3)\r\n",
      "Requirement already satisfied: requests in /opt/conda/lib/python3.10/site-packages (from insightface==0.7.3->-r requirements.txt (line 6)) (2.31.0)\r\n",
      "Requirement already satisfied: matplotlib in /opt/conda/lib/python3.10/site-packages (from insightface==0.7.3->-r requirements.txt (line 6)) (3.7.1)\r\n",
      "Requirement already satisfied: scipy in /opt/conda/lib/python3.10/site-packages (from insightface==0.7.3->-r requirements.txt (line 6)) (1.11.1)\r\n",
      "Requirement already satisfied: scikit-learn in /opt/conda/lib/python3.10/site-packages (from insightface==0.7.3->-r requirements.txt (line 6)) (1.2.2)\r\n",
      "Requirement already satisfied: scikit-image in /opt/conda/lib/python3.10/site-packages (from insightface==0.7.3->-r requirements.txt (line 6)) (0.21.0)\r\n",
      "Requirement already satisfied: easydict in /opt/conda/lib/python3.10/site-packages (from insightface==0.7.3->-r requirements.txt (line 6)) (1.10)\r\n",
      "Requirement already satisfied: cython in /opt/conda/lib/python3.10/site-packages (from insightface==0.7.3->-r requirements.txt (line 6)) (0.29.35)\r\n",
      "Requirement already satisfied: albumentations in /opt/conda/lib/python3.10/site-packages (from insightface==0.7.3->-r requirements.txt (line 6)) (1.3.1)\r\n",
      "Requirement already satisfied: prettytable in /opt/conda/lib/python3.10/site-packages (from insightface==0.7.3->-r requirements.txt (line 6)) (3.8.0)\r\n",
      "Collecting darkdetect (from customtkinter==5.2.0->-r requirements.txt (line 9))\r\n",
      "  Downloading darkdetect-0.8.0-py3-none-any.whl (9.0 kB)\r\n",
      "Requirement already satisfied: filelock in /opt/conda/lib/python3.10/site-packages (from torch==2.0.1+cu118->-r requirements.txt (line 13)) (3.12.2)\r\n",
      "Requirement already satisfied: sympy in /opt/conda/lib/python3.10/site-packages (from torch==2.0.1+cu118->-r requirements.txt (line 13)) (1.12)\r\n",
      "Requirement already satisfied: networkx in /opt/conda/lib/python3.10/site-packages (from torch==2.0.1+cu118->-r requirements.txt (line 13)) (3.1)\r\n",
      "Requirement already satisfied: jinja2 in /opt/conda/lib/python3.10/site-packages (from torch==2.0.1+cu118->-r requirements.txt (line 13)) (3.1.2)\r\n",
      "Collecting triton==2.0.0 (from torch==2.0.1+cu118->-r requirements.txt (line 13))\r\n",
      "  Downloading https://download.pytorch.org/whl/triton-2.0.0-1-cp310-cp310-manylinux2014_x86_64.manylinux_2_17_x86_64.whl (63.3 MB)\r\n",
      "\u001b[2K     \u001b[90m━━━━━━━━━━━━━━━━━━━━━━━━━━━━━━━━━━━━━━━━\u001b[0m \u001b[32m63.3/63.3 MB\u001b[0m \u001b[31m16.1 MB/s\u001b[0m eta \u001b[36m0:00:00\u001b[0m\r\n",
      "\u001b[?25hCollecting coloredlogs (from onnxruntime-gpu==1.15.1->-r requirements.txt (line 20))\r\n",
      "  Downloading coloredlogs-15.0.1-py2.py3-none-any.whl (46 kB)\r\n",
      "\u001b[2K     \u001b[90m━━━━━━━━━━━━━━━━━━━━━━━━━━━━━━━━━━━━━━━━\u001b[0m \u001b[32m46.0/46.0 kB\u001b[0m \u001b[31m4.0 MB/s\u001b[0m eta \u001b[36m0:00:00\u001b[0m\r\n",
      "\u001b[?25hRequirement already satisfied: flatbuffers in /opt/conda/lib/python3.10/site-packages (from onnxruntime-gpu==1.15.1->-r requirements.txt (line 20)) (23.5.26)\r\n",
      "Requirement already satisfied: packaging in /opt/conda/lib/python3.10/site-packages (from onnxruntime-gpu==1.15.1->-r requirements.txt (line 20)) (21.3)\r\n",
      "Requirement already satisfied: absl-py>=1.0.0 in /opt/conda/lib/python3.10/site-packages (from tensorflow==2.13.0->-r requirements.txt (line 21)) (1.4.0)\r\n",
      "Requirement already satisfied: astunparse>=1.6.0 in /opt/conda/lib/python3.10/site-packages (from tensorflow==2.13.0->-r requirements.txt (line 21)) (1.6.3)\r\n",
      "Requirement already satisfied: gast<=0.4.0,>=0.2.1 in /opt/conda/lib/python3.10/site-packages (from tensorflow==2.13.0->-r requirements.txt (line 21)) (0.4.0)\r\n",
      "Requirement already satisfied: google-pasta>=0.1.1 in /opt/conda/lib/python3.10/site-packages (from tensorflow==2.13.0->-r requirements.txt (line 21)) (0.2.0)\r\n",
      "Requirement already satisfied: grpcio<2.0,>=1.24.3 in /opt/conda/lib/python3.10/site-packages (from tensorflow==2.13.0->-r requirements.txt (line 21)) (1.51.1)\r\n",
      "Requirement already satisfied: h5py>=2.9.0 in /opt/conda/lib/python3.10/site-packages (from tensorflow==2.13.0->-r requirements.txt (line 21)) (3.9.0)\r\n",
      "Collecting keras<2.14,>=2.13.1 (from tensorflow==2.13.0->-r requirements.txt (line 21))\r\n",
      "  Downloading keras-2.13.1-py3-none-any.whl (1.7 MB)\r\n",
      "\u001b[2K     \u001b[90m━━━━━━━━━━━━━━━━━━━━━━━━━━━━━━━━━━━━━━━━\u001b[0m \u001b[32m1.7/1.7 MB\u001b[0m \u001b[31m58.4 MB/s\u001b[0m eta \u001b[36m0:00:00\u001b[0m\r\n",
      "\u001b[?25hRequirement already satisfied: libclang>=13.0.0 in /opt/conda/lib/python3.10/site-packages (from tensorflow==2.13.0->-r requirements.txt (line 21)) (16.0.0)\r\n",
      "Requirement already satisfied: opt-einsum>=2.3.2 in /opt/conda/lib/python3.10/site-packages (from tensorflow==2.13.0->-r requirements.txt (line 21)) (3.3.0)\r\n",
      "Requirement already satisfied: setuptools in /opt/conda/lib/python3.10/site-packages (from tensorflow==2.13.0->-r requirements.txt (line 21)) (59.8.0)\r\n",
      "Requirement already satisfied: six>=1.12.0 in /opt/conda/lib/python3.10/site-packages (from tensorflow==2.13.0->-r requirements.txt (line 21)) (1.16.0)\r\n",
      "Collecting tensorboard<2.14,>=2.13 (from tensorflow==2.13.0->-r requirements.txt (line 21))\r\n",
      "  Downloading tensorboard-2.13.0-py3-none-any.whl (5.6 MB)\r\n",
      "\u001b[2K     \u001b[90m━━━━━━━━━━━━━━━━━━━━━━━━━━━━━━━━━━━━━━━━\u001b[0m \u001b[32m5.6/5.6 MB\u001b[0m \u001b[31m74.8 MB/s\u001b[0m eta \u001b[36m0:00:00\u001b[0m\r\n",
      "\u001b[?25hCollecting tensorflow-estimator<2.14,>=2.13.0 (from tensorflow==2.13.0->-r requirements.txt (line 21))\r\n",
      "  Downloading tensorflow_estimator-2.13.0-py2.py3-none-any.whl (440 kB)\r\n",
      "\u001b[2K     \u001b[90m━━━━━━━━━━━━━━━━━━━━━━━━━━━━━━━━━━━━━━\u001b[0m \u001b[32m440.8/440.8 kB\u001b[0m \u001b[31m29.3 MB/s\u001b[0m eta \u001b[36m0:00:00\u001b[0m\r\n",
      "\u001b[?25hRequirement already satisfied: termcolor>=1.1.0 in /opt/conda/lib/python3.10/site-packages (from tensorflow==2.13.0->-r requirements.txt (line 21)) (2.3.0)\r\n",
      "Collecting typing-extensions>=3.6.2.1 (from onnx==1.14.0->-r requirements.txt (line 5))\r\n",
      "  Downloading typing_extensions-4.5.0-py3-none-any.whl (27 kB)\r\n",
      "Requirement already satisfied: wrapt>=1.11.0 in /opt/conda/lib/python3.10/site-packages (from tensorflow==2.13.0->-r requirements.txt (line 21)) (1.14.1)\r\n",
      "Requirement already satisfied: tensorflow-io-gcs-filesystem>=0.23.1 in /opt/conda/lib/python3.10/site-packages (from tensorflow==2.13.0->-r requirements.txt (line 21)) (0.31.0)\r\n",
      "Collecting gdown>=4.2.0 (from opennsfw2==0.10.2->-r requirements.txt (line 22))\r\n",
      "  Downloading gdown-4.7.1-py3-none-any.whl (15 kB)\r\n",
      "Collecting basicsr>=1.4.2 (from gfpgan==1.3.8->-r requirements.txt (line 25))\r\n",
      "  Downloading basicsr-1.4.2.tar.gz (172 kB)\r\n",
      "\u001b[2K     \u001b[90m━━━━━━━━━━━━━━━━━━━━━━━━━━━━━━━━━━━━━━\u001b[0m \u001b[32m172.5/172.5 kB\u001b[0m \u001b[31m14.1 MB/s\u001b[0m eta \u001b[36m0:00:00\u001b[0m\r\n",
      "\u001b[?25h  Preparing metadata (setup.py) ... \u001b[?25l-\b \b\\\b \bdone\r\n",
      "\u001b[?25hCollecting facexlib>=0.2.5 (from gfpgan==1.3.8->-r requirements.txt (line 25))\r\n",
      "  Downloading facexlib-0.3.0-py3-none-any.whl (59 kB)\r\n",
      "\u001b[2K     \u001b[90m━━━━━━━━━━━━━━━━━━━━━━━━━━━━━━━━━━━━━━━━\u001b[0m \u001b[32m59.6/59.6 kB\u001b[0m \u001b[31m5.4 MB/s\u001b[0m eta \u001b[36m0:00:00\u001b[0m\r\n",
      "\u001b[?25hCollecting lmdb (from gfpgan==1.3.8->-r requirements.txt (line 25))\r\n",
      "  Downloading lmdb-1.4.1-cp310-cp310-manylinux_2_17_x86_64.manylinux2014_x86_64.whl (299 kB)\r\n",
      "\u001b[2K     \u001b[90m━━━━━━━━━━━━━━━━━━━━━━━━━━━━━━━━━━━━━━\u001b[0m \u001b[32m299.2/299.2 kB\u001b[0m \u001b[31m23.5 MB/s\u001b[0m eta \u001b[36m0:00:00\u001b[0m\r\n",
      "\u001b[?25hRequirement already satisfied: pyyaml in /opt/conda/lib/python3.10/site-packages (from gfpgan==1.3.8->-r requirements.txt (line 25)) (6.0)\r\n",
      "Collecting tb-nightly (from gfpgan==1.3.8->-r requirements.txt (line 25))\r\n",
      "  Downloading tb_nightly-2.14.0a20230725-py3-none-any.whl (5.5 MB)\r\n",
      "\u001b[2K     \u001b[90m━━━━━━━━━━━━━━━━━━━━━━━━━━━━━━━━━━━━━━━━\u001b[0m \u001b[32m5.5/5.5 MB\u001b[0m \u001b[31m75.2 MB/s\u001b[0m eta \u001b[36m0:00:00\u001b[0m\r\n",
      "\u001b[?25hRequirement already satisfied: yapf in /opt/conda/lib/python3.10/site-packages (from gfpgan==1.3.8->-r requirements.txt (line 25)) (0.40.1)\r\n",
      "Collecting cmake (from triton==2.0.0->torch==2.0.1+cu118->-r requirements.txt (line 13))\r\n",
      "  Downloading cmake-3.27.0-py2.py3-none-manylinux2014_x86_64.manylinux_2_17_x86_64.whl (26.0 MB)\r\n",
      "\u001b[2K     \u001b[90m━━━━━━━━━━━━━━━━━━━━━━━━━━━━━━━━━━━━━━━━\u001b[0m \u001b[32m26.0/26.0 MB\u001b[0m \u001b[31m47.7 MB/s\u001b[0m eta \u001b[36m0:00:00\u001b[0m\r\n",
      "\u001b[?25hCollecting lit (from triton==2.0.0->torch==2.0.1+cu118->-r requirements.txt (line 13))\r\n",
      "  Downloading lit-16.0.6.tar.gz (153 kB)\r\n",
      "\u001b[2K     \u001b[90m━━━━━━━━━━━━━━━━━━━━━━━━━━━━━━━━━━━━━━\u001b[0m \u001b[32m153.7/153.7 kB\u001b[0m \u001b[31m15.6 MB/s\u001b[0m eta \u001b[36m0:00:00\u001b[0m\r\n",
      "\u001b[?25h  Installing build dependencies ... \u001b[?25l-\b \b\\\b \b|\b \b/\b \bdone\r\n",
      "\u001b[?25h  Getting requirements to build wheel ... \u001b[?25l-\b \bdone\r\n",
      "\u001b[?25h  Installing backend dependencies ... \u001b[?25l-\b \b\\\b \b|\b \b/\b \bdone\r\n",
      "\u001b[?25h  Preparing metadata (pyproject.toml) ... \u001b[?25l-\b \bdone\r\n",
      "\u001b[?25hRequirement already satisfied: wheel<1.0,>=0.23.0 in /opt/conda/lib/python3.10/site-packages (from astunparse>=1.6.0->tensorflow==2.13.0->-r requirements.txt (line 21)) (0.40.0)\r\n",
      "Collecting addict (from basicsr>=1.4.2->gfpgan==1.3.8->-r requirements.txt (line 25))\r\n",
      "  Downloading addict-2.4.0-py3-none-any.whl (3.8 kB)\r\n",
      "Requirement already satisfied: future in /opt/conda/lib/python3.10/site-packages (from basicsr>=1.4.2->gfpgan==1.3.8->-r requirements.txt (line 25)) (0.18.3)\r\n",
      "Collecting filterpy (from facexlib>=0.2.5->gfpgan==1.3.8->-r requirements.txt (line 25))\r\n",
      "  Downloading filterpy-1.4.5.zip (177 kB)\r\n",
      "\u001b[2K     \u001b[90m━━━━━━━━━━━━━━━━━━━━━━━━━━━━━━━━━━━━━━\u001b[0m \u001b[32m178.0/178.0 kB\u001b[0m \u001b[31m16.8 MB/s\u001b[0m eta \u001b[36m0:00:00\u001b[0m\r\n",
      "\u001b[?25h  Preparing metadata (setup.py) ... \u001b[?25l-\b \b\\\b \bdone\r\n",
      "\u001b[?25hRequirement already satisfied: numba in /opt/conda/lib/python3.10/site-packages (from facexlib>=0.2.5->gfpgan==1.3.8->-r requirements.txt (line 25)) (0.57.1)\r\n",
      "Requirement already satisfied: beautifulsoup4 in /opt/conda/lib/python3.10/site-packages (from gdown>=4.2.0->opennsfw2==0.10.2->-r requirements.txt (line 22)) (4.12.2)\r\n",
      "Requirement already satisfied: contourpy>=1.0.1 in /opt/conda/lib/python3.10/site-packages (from matplotlib->insightface==0.7.3->-r requirements.txt (line 6)) (1.1.0)\r\n",
      "Requirement already satisfied: cycler>=0.10 in /opt/conda/lib/python3.10/site-packages (from matplotlib->insightface==0.7.3->-r requirements.txt (line 6)) (0.11.0)\r\n",
      "Requirement already satisfied: fonttools>=4.22.0 in /opt/conda/lib/python3.10/site-packages (from matplotlib->insightface==0.7.3->-r requirements.txt (line 6)) (4.40.0)\r\n",
      "Requirement already satisfied: kiwisolver>=1.0.1 in /opt/conda/lib/python3.10/site-packages (from matplotlib->insightface==0.7.3->-r requirements.txt (line 6)) (1.4.4)\r\n",
      "Requirement already satisfied: pyparsing>=2.3.1 in /opt/conda/lib/python3.10/site-packages (from matplotlib->insightface==0.7.3->-r requirements.txt (line 6)) (3.0.9)\r\n",
      "Requirement already satisfied: python-dateutil>=2.7 in /opt/conda/lib/python3.10/site-packages (from matplotlib->insightface==0.7.3->-r requirements.txt (line 6)) (2.8.2)\r\n",
      "Requirement already satisfied: imageio>=2.27 in /opt/conda/lib/python3.10/site-packages (from scikit-image->insightface==0.7.3->-r requirements.txt (line 6)) (2.31.1)\r\n",
      "Requirement already satisfied: tifffile>=2022.8.12 in /opt/conda/lib/python3.10/site-packages (from scikit-image->insightface==0.7.3->-r requirements.txt (line 6)) (2023.4.12)\r\n",
      "Requirement already satisfied: PyWavelets>=1.1.1 in /opt/conda/lib/python3.10/site-packages (from scikit-image->insightface==0.7.3->-r requirements.txt (line 6)) (1.4.1)\r\n",
      "Requirement already satisfied: lazy_loader>=0.2 in /opt/conda/lib/python3.10/site-packages (from scikit-image->insightface==0.7.3->-r requirements.txt (line 6)) (0.2)\r\n",
      "Requirement already satisfied: google-auth<3,>=1.6.3 in /opt/conda/lib/python3.10/site-packages (from tensorboard<2.14,>=2.13->tensorflow==2.13.0->-r requirements.txt (line 21)) (2.20.0)\r\n",
      "Requirement already satisfied: google-auth-oauthlib<1.1,>=0.5 in /opt/conda/lib/python3.10/site-packages (from tensorboard<2.14,>=2.13->tensorflow==2.13.0->-r requirements.txt (line 21)) (1.0.0)\r\n",
      "Requirement already satisfied: markdown>=2.6.8 in /opt/conda/lib/python3.10/site-packages (from tensorboard<2.14,>=2.13->tensorflow==2.13.0->-r requirements.txt (line 21)) (3.4.3)\r\n",
      "Requirement already satisfied: tensorboard-data-server<0.8.0,>=0.7.0 in /opt/conda/lib/python3.10/site-packages (from tensorboard<2.14,>=2.13->tensorflow==2.13.0->-r requirements.txt (line 21)) (0.7.1)\r\n",
      "Requirement already satisfied: werkzeug>=1.0.1 in /opt/conda/lib/python3.10/site-packages (from tensorboard<2.14,>=2.13->tensorflow==2.13.0->-r requirements.txt (line 21)) (2.3.6)\r\n",
      "Requirement already satisfied: charset-normalizer<4,>=2 in /opt/conda/lib/python3.10/site-packages (from requests->insightface==0.7.3->-r requirements.txt (line 6)) (3.1.0)\r\n",
      "Requirement already satisfied: idna<4,>=2.5 in /opt/conda/lib/python3.10/site-packages (from requests->insightface==0.7.3->-r requirements.txt (line 6)) (3.4)\r\n",
      "Requirement already satisfied: urllib3<3,>=1.21.1 in /opt/conda/lib/python3.10/site-packages (from requests->insightface==0.7.3->-r requirements.txt (line 6)) (1.26.15)\r\n",
      "Requirement already satisfied: certifi>=2017.4.17 in /opt/conda/lib/python3.10/site-packages (from requests->insightface==0.7.3->-r requirements.txt (line 6)) (2023.5.7)\r\n",
      "Requirement already satisfied: qudida>=0.0.4 in /opt/conda/lib/python3.10/site-packages (from albumentations->insightface==0.7.3->-r requirements.txt (line 6)) (0.0.4)\r\n",
      "Requirement already satisfied: opencv-python-headless>=4.1.1 in /opt/conda/lib/python3.10/site-packages (from albumentations->insightface==0.7.3->-r requirements.txt (line 6)) (4.8.0.74)\r\n",
      "Collecting humanfriendly>=9.1 (from coloredlogs->onnxruntime-gpu==1.15.1->-r requirements.txt (line 20))\r\n",
      "  Downloading humanfriendly-10.0-py2.py3-none-any.whl (86 kB)\r\n",
      "\u001b[2K     \u001b[90m━━━━━━━━━━━━━━━━━━━━━━━━━━━━━━━━━━━━━━━━\u001b[0m \u001b[32m86.8/86.8 kB\u001b[0m \u001b[31m8.6 MB/s\u001b[0m eta \u001b[36m0:00:00\u001b[0m\r\n",
      "\u001b[?25hRequirement already satisfied: MarkupSafe>=2.0 in /opt/conda/lib/python3.10/site-packages (from jinja2->torch==2.0.1+cu118->-r requirements.txt (line 13)) (2.1.3)\r\n",
      "Requirement already satisfied: wcwidth in /opt/conda/lib/python3.10/site-packages (from prettytable->insightface==0.7.3->-r requirements.txt (line 6)) (0.2.6)\r\n",
      "Requirement already satisfied: joblib>=1.1.1 in /opt/conda/lib/python3.10/site-packages (from scikit-learn->insightface==0.7.3->-r requirements.txt (line 6)) (1.2.0)\r\n",
      "Requirement already satisfied: threadpoolctl>=2.0.0 in /opt/conda/lib/python3.10/site-packages (from scikit-learn->insightface==0.7.3->-r requirements.txt (line 6)) (3.1.0)\r\n",
      "Requirement already satisfied: mpmath>=0.19 in /opt/conda/lib/python3.10/site-packages (from sympy->torch==2.0.1+cu118->-r requirements.txt (line 13)) (1.3.0)\r\n",
      "Requirement already satisfied: importlib-metadata>=6.6.0 in /opt/conda/lib/python3.10/site-packages (from yapf->gfpgan==1.3.8->-r requirements.txt (line 25)) (6.7.0)\r\n",
      "Requirement already satisfied: platformdirs>=3.5.1 in /opt/conda/lib/python3.10/site-packages (from yapf->gfpgan==1.3.8->-r requirements.txt (line 25)) (3.8.1)\r\n",
      "Requirement already satisfied: tomli>=2.0.1 in /opt/conda/lib/python3.10/site-packages (from yapf->gfpgan==1.3.8->-r requirements.txt (line 25)) (2.0.1)\r\n",
      "Requirement already satisfied: cachetools<6.0,>=2.0.0 in /opt/conda/lib/python3.10/site-packages (from google-auth<3,>=1.6.3->tensorboard<2.14,>=2.13->tensorflow==2.13.0->-r requirements.txt (line 21)) (4.2.4)\r\n",
      "Requirement already satisfied: pyasn1-modules>=0.2.1 in /opt/conda/lib/python3.10/site-packages (from google-auth<3,>=1.6.3->tensorboard<2.14,>=2.13->tensorflow==2.13.0->-r requirements.txt (line 21)) (0.2.7)\r\n",
      "Requirement already satisfied: rsa<5,>=3.1.4 in /opt/conda/lib/python3.10/site-packages (from google-auth<3,>=1.6.3->tensorboard<2.14,>=2.13->tensorflow==2.13.0->-r requirements.txt (line 21)) (4.9)\r\n",
      "Requirement already satisfied: requests-oauthlib>=0.7.0 in /opt/conda/lib/python3.10/site-packages (from google-auth-oauthlib<1.1,>=0.5->tensorboard<2.14,>=2.13->tensorflow==2.13.0->-r requirements.txt (line 21)) (1.3.1)\r\n",
      "Requirement already satisfied: zipp>=0.5 in /opt/conda/lib/python3.10/site-packages (from importlib-metadata>=6.6.0->yapf->gfpgan==1.3.8->-r requirements.txt (line 25)) (3.15.0)\r\n",
      "Requirement already satisfied: soupsieve>1.2 in /opt/conda/lib/python3.10/site-packages (from beautifulsoup4->gdown>=4.2.0->opennsfw2==0.10.2->-r requirements.txt (line 22)) (2.3.2.post1)\r\n",
      "Requirement already satisfied: llvmlite<0.41,>=0.40.0dev0 in /opt/conda/lib/python3.10/site-packages (from numba->facexlib>=0.2.5->gfpgan==1.3.8->-r requirements.txt (line 25)) (0.40.1)\r\n",
      "Requirement already satisfied: PySocks!=1.5.7,>=1.5.6 in /opt/conda/lib/python3.10/site-packages (from requests->insightface==0.7.3->-r requirements.txt (line 6)) (1.7.1)\r\n",
      "Requirement already satisfied: pyasn1<0.5.0,>=0.4.6 in /opt/conda/lib/python3.10/site-packages (from pyasn1-modules>=0.2.1->google-auth<3,>=1.6.3->tensorboard<2.14,>=2.13->tensorflow==2.13.0->-r requirements.txt (line 21)) (0.4.8)\r\n",
      "Requirement already satisfied: oauthlib>=3.0.0 in /opt/conda/lib/python3.10/site-packages (from requests-oauthlib>=0.7.0->google-auth-oauthlib<1.1,>=0.5->tensorboard<2.14,>=2.13->tensorflow==2.13.0->-r requirements.txt (line 21)) (3.2.2)\r\n",
      "Building wheels for collected packages: insightface, basicsr, filterpy, lit\r\n",
      "  Building wheel for insightface (pyproject.toml) ... \u001b[?25l-\b \b\\\b \b|\b \b/\b \b-\b \b\\\b \bdone\r\n",
      "\u001b[?25h  Created wheel for insightface: filename=insightface-0.7.3-cp310-cp310-linux_x86_64.whl size=869082 sha256=aba8a8b60dde32f19d466eaa37264725ee2724a8d1717990eab15b8453d1f52f\r\n",
      "  Stored in directory: /root/.cache/pip/wheels/e3/d0/80/e3773fb8b6d1cca87ea1d33d9b1f20a223a6493c896da249b5\r\n",
      "  Building wheel for basicsr (setup.py) ... \u001b[?25l-\b \b\\\b \b|\b \bdone\r\n",
      "\u001b[?25h  Created wheel for basicsr: filename=basicsr-1.4.2-py3-none-any.whl size=214839 sha256=685d0dc2e4ac14e558c711cc084beafe8786ac1c26136a4c60c462070a0da41d\r\n",
      "  Stored in directory: /root/.cache/pip/wheels/38/83/99/2d8437cc652a01af27df5ff037a4075e95b52d67705c5f30ca\r\n",
      "  Building wheel for filterpy (setup.py) ... \u001b[?25l-\b \b\\\b \b|\b \b/\b \bdone\r\n",
      "\u001b[?25h  Created wheel for filterpy: filename=filterpy-1.4.5-py3-none-any.whl size=110473 sha256=c38d1fc06bb42de9be8b44b7657ef9c0641a03d37b3d61e50c28148a8b50712a\r\n",
      "  Stored in directory: /root/.cache/pip/wheels/0f/0c/ea/218f266af4ad626897562199fbbcba521b8497303200186102\r\n",
      "  Building wheel for lit (pyproject.toml) ... \u001b[?25l-\b \b\\\b \bdone\r\n",
      "\u001b[?25h  Created wheel for lit: filename=lit-16.0.6-py3-none-any.whl size=93584 sha256=8f5b222ad9e055965d05710d5cef5395cb2ef5b63d8b0bb7513207328aa67643\r\n",
      "  Stored in directory: /root/.cache/pip/wheels/14/f9/07/bb2308587bc2f57158f905a2325f6a89a2befa7437b2d7e137\r\n",
      "Successfully built insightface basicsr filterpy lit\r\n",
      "Installing collected packages: tk, lmdb, lit, cmake, addict, typing-extensions, tkinterdnd2, tensorflow-estimator, psutil, protobuf, pillow, opencv-python, keras, humanfriendly, darkdetect, customtkinter, coloredlogs, onnxruntime-gpu, gdown, filterpy, tensorboard, tb-nightly, tensorflow, insightface, opennsfw2, triton, torch, torchvision, facexlib, basicsr, gfpgan\r\n",
      "  Attempting uninstall: typing-extensions\r\n",
      "    Found existing installation: typing_extensions 4.6.3\r\n",
      "    Uninstalling typing_extensions-4.6.3:\r\n",
      "      Successfully uninstalled typing_extensions-4.6.3\r\n",
      "  Attempting uninstall: tensorflow-estimator\r\n",
      "    Found existing installation: tensorflow-estimator 2.12.0\r\n",
      "    Uninstalling tensorflow-estimator-2.12.0:\r\n",
      "      Successfully uninstalled tensorflow-estimator-2.12.0\r\n",
      "  Attempting uninstall: psutil\r\n",
      "    Found existing installation: psutil 5.9.3\r\n",
      "    Uninstalling psutil-5.9.3:\r\n",
      "      Successfully uninstalled psutil-5.9.3\r\n",
      "  Attempting uninstall: protobuf\r\n",
      "    Found existing installation: protobuf 3.20.3\r\n",
      "    Uninstalling protobuf-3.20.3:\r\n",
      "      Successfully uninstalled protobuf-3.20.3\r\n",
      "  Attempting uninstall: pillow\r\n",
      "    Found existing installation: Pillow 9.5.0\r\n",
      "    Uninstalling Pillow-9.5.0:\r\n",
      "      Successfully uninstalled Pillow-9.5.0\r\n",
      "  Attempting uninstall: keras\r\n",
      "    Found existing installation: keras 2.12.0\r\n",
      "    Uninstalling keras-2.12.0:\r\n",
      "      Successfully uninstalled keras-2.12.0\r\n",
      "  Attempting uninstall: tensorboard\r\n",
      "    Found existing installation: tensorboard 2.12.3\r\n",
      "    Uninstalling tensorboard-2.12.3:\r\n",
      "      Successfully uninstalled tensorboard-2.12.3\r\n",
      "  Attempting uninstall: tensorflow\r\n",
      "    Found existing installation: tensorflow 2.12.0\r\n",
      "    Uninstalling tensorflow-2.12.0:\r\n",
      "      Successfully uninstalled tensorflow-2.12.0\r\n",
      "  Attempting uninstall: torch\r\n",
      "    Found existing installation: torch 2.0.0\r\n",
      "    Uninstalling torch-2.0.0:\r\n",
      "      Successfully uninstalled torch-2.0.0\r\n",
      "  Attempting uninstall: torchvision\r\n",
      "    Found existing installation: torchvision 0.15.1\r\n",
      "    Uninstalling torchvision-0.15.1:\r\n",
      "      Successfully uninstalled torchvision-0.15.1\r\n",
      "\u001b[31mERROR: pip's dependency resolver does not currently take into account all the packages that are installed. This behaviour is the source of the following dependency conflicts.\r\n",
      "cudf 23.6.1 requires cupy-cuda11x>=12.0.0, which is not installed.\r\n",
      "cuml 23.6.0 requires cupy-cuda11x>=12.0.0, which is not installed.\r\n",
      "dask-cudf 23.6.1 requires cupy-cuda11x>=12.0.0, which is not installed.\r\n",
      "apache-beam 2.46.0 requires dill<0.3.2,>=0.3.1.1, but you have dill 0.3.6 which is incompatible.\r\n",
      "apache-beam 2.46.0 requires protobuf<4,>3.12.2, but you have protobuf 4.23.4 which is incompatible.\r\n",
      "apache-beam 2.46.0 requires pyarrow<10.0.0,>=3.0.0, but you have pyarrow 11.0.0 which is incompatible.\r\n",
      "beatrix-jupyterlab 2023.621.222118 requires jupyter-server~=1.16, but you have jupyter-server 2.6.0 which is incompatible.\r\n",
      "chex 0.1.81 requires numpy>=1.25.0, but you have numpy 1.23.5 which is incompatible.\r\n",
      "cudf 23.6.1 requires protobuf<4.22,>=4.21.6, but you have protobuf 4.23.4 which is incompatible.\r\n",
      "cuml 23.6.0 requires dask==2023.3.2, but you have dask 2023.7.0 which is incompatible.\r\n",
      "dask-cudf 23.6.1 requires dask==2023.3.2, but you have dask 2023.7.0 which is incompatible.\r\n",
      "distributed 2023.3.2.1 requires dask==2023.3.2, but you have dask 2023.7.0 which is incompatible.\r\n",
      "google-cloud-aiplatform 0.6.0a1 requires google-api-core[grpc]<2.0.0dev,>=1.22.2, but you have google-api-core 2.11.1 which is incompatible.\r\n",
      "google-cloud-automl 1.0.1 requires google-api-core[grpc]<2.0.0dev,>=1.14.0, but you have google-api-core 2.11.1 which is incompatible.\r\n",
      "google-cloud-bigquery 2.34.4 requires protobuf<4.0.0dev,>=3.12.0, but you have protobuf 4.23.4 which is incompatible.\r\n",
      "google-cloud-bigtable 1.7.3 requires protobuf<4.0.0dev, but you have protobuf 4.23.4 which is incompatible.\r\n",
      "google-cloud-pubsub 2.17.1 requires grpcio<2.0dev,>=1.51.3, but you have grpcio 1.51.1 which is incompatible.\r\n",
      "google-cloud-vision 2.8.0 requires protobuf<4.0.0dev,>=3.19.0, but you have protobuf 4.23.4 which is incompatible.\r\n",
      "kfp 2.0.1 requires google-cloud-storage<3,>=2.2.1, but you have google-cloud-storage 1.44.0 which is incompatible.\r\n",
      "kfp 2.0.1 requires protobuf<4,>=3.13.0, but you have protobuf 4.23.4 which is incompatible.\r\n",
      "kfp-pipeline-spec 0.2.2 requires protobuf<4,>=3.13.0, but you have protobuf 4.23.4 which is incompatible.\r\n",
      "pymc3 3.11.5 requires numpy<1.22.2,>=1.15.0, but you have numpy 1.23.5 which is incompatible.\r\n",
      "pymc3 3.11.5 requires scipy<1.8.0,>=1.7.3, but you have scipy 1.11.1 which is incompatible.\r\n",
      "raft-dask 23.6.2 requires dask==2023.3.2, but you have dask 2023.7.0 which is incompatible.\r\n",
      "tensorboardx 2.6 requires protobuf<4,>=3.8.0, but you have protobuf 4.23.4 which is incompatible.\r\n",
      "tensorflow-decision-forests 1.4.0 requires tensorflow~=2.12.0, but you have tensorflow 2.13.0 which is incompatible.\r\n",
      "tensorflow-metadata 0.14.0 requires protobuf<4,>=3.7, but you have protobuf 4.23.4 which is incompatible.\r\n",
      "tensorflow-text 2.12.1 requires tensorflow<2.13,>=2.12.0; platform_machine != \"arm64\" or platform_system != \"Darwin\", but you have tensorflow 2.13.0 which is incompatible.\r\n",
      "tensorflow-transform 0.14.0 requires protobuf<4,>=3.7, but you have protobuf 4.23.4 which is incompatible.\r\n",
      "torchdata 0.6.0 requires torch==2.0.0, but you have torch 2.0.1+cu118 which is incompatible.\r\n",
      "ydata-profiling 4.3.1 requires scipy<1.11,>=1.4.1, but you have scipy 1.11.1 which is incompatible.\u001b[0m\u001b[31m\r\n",
      "\u001b[0mSuccessfully installed addict-2.4.0 basicsr-1.4.2 cmake-3.27.0 coloredlogs-15.0.1 customtkinter-5.2.0 darkdetect-0.8.0 facexlib-0.3.0 filterpy-1.4.5 gdown-4.7.1 gfpgan-1.3.8 humanfriendly-10.0 insightface-0.7.3 keras-2.13.1 lit-16.0.6 lmdb-1.4.1 onnxruntime-gpu-1.15.1 opencv-python-4.8.0.74 opennsfw2-0.10.2 pillow-10.0.0 protobuf-4.21.12 psutil-5.9.5 tb-nightly-2.14.0a20230725 tensorboard-2.13.0 tensorflow-2.13.0 tensorflow-estimator-2.13.0 tk-0.1.0 tkinterdnd2-0.3.0 torch-2.0.1+cu118 torchvision-0.15.2+cu118 triton-2.0.0 typing-extensions-4.5.0\r\n"
     ]
    }
   ],
   "source": [
    "# 开始安装依赖库，时间较长，多等等\n",
    "!pip install -r requirements.txt"
   ]
  },
  {
   "cell_type": "code",
   "execution_count": 9,
   "id": "e80f609d",
   "metadata": {
    "execution": {
     "iopub.execute_input": "2023-07-26T15:48:58.334936Z",
     "iopub.status.busy": "2023-07-26T15:48:58.334541Z",
     "iopub.status.idle": "2023-07-26T15:48:59.382510Z",
     "shell.execute_reply": "2023-07-26T15:48:59.381004Z"
    },
    "papermill": {
     "duration": 1.168759,
     "end_time": "2023-07-26T15:48:59.385335",
     "exception": false,
     "start_time": "2023-07-26T15:48:58.216576",
     "status": "completed"
    },
    "tags": []
   },
   "outputs": [
    {
     "name": "stdout",
     "output_type": "stream",
     "text": [
      "CONTRIBUTING.md  README.md  gui-demo.png  requirements-ci.txt  roop\r\n",
      "LICENSE\t\t demo.gif   mypy.ini\t  requirements.txt     run.py\r\n"
     ]
    }
   ],
   "source": [
    "! ls"
   ]
  },
  {
   "cell_type": "markdown",
   "id": "b80e4988",
   "metadata": {
    "papermill": {
     "duration": 0.114065,
     "end_time": "2023-07-26T15:48:59.616375",
     "exception": false,
     "start_time": "2023-07-26T15:48:59.502310",
     "status": "completed"
    },
    "tags": []
   },
   "source": [
    "## 配置，合成视频"
   ]
  },
  {
   "cell_type": "code",
   "execution_count": 10,
   "id": "8e7783a1",
   "metadata": {
    "execution": {
     "iopub.execute_input": "2023-07-26T15:48:59.847452Z",
     "iopub.status.busy": "2023-07-26T15:48:59.847062Z",
     "iopub.status.idle": "2023-07-26T15:49:01.997883Z",
     "shell.execute_reply": "2023-07-26T15:49:01.996348Z"
    },
    "papermill": {
     "duration": 2.271707,
     "end_time": "2023-07-26T15:49:02.000587",
     "exception": false,
     "start_time": "2023-07-26T15:48:59.728880",
     "status": "completed"
    },
    "tags": []
   },
   "outputs": [],
   "source": [
    "!rm -rf /kaggle/working/output\n",
    "!mkdir -p /kaggle/working/output"
   ]
  },
  {
   "cell_type": "markdown",
   "id": "fa69d8f8",
   "metadata": {
    "execution": {
     "iopub.execute_input": "2023-07-26T15:31:01.841991Z",
     "iopub.status.busy": "2023-07-26T15:31:01.841294Z",
     "iopub.status.idle": "2023-07-26T15:31:01.846277Z",
     "shell.execute_reply": "2023-07-26T15:31:01.845317Z",
     "shell.execute_reply.started": "2023-07-26T15:31:01.841954Z"
    },
    "papermill": {
     "duration": 0.112623,
     "end_time": "2023-07-26T15:49:02.234175",
     "exception": false,
     "start_time": "2023-07-26T15:49:02.121552",
     "status": "completed"
    },
    "tags": []
   },
   "source": [
    "### 常用命令参数说明"
   ]
  },
  {
   "cell_type": "markdown",
   "id": "b4dd341c",
   "metadata": {
    "papermill": {
     "duration": 0.113002,
     "end_time": "2023-07-26T15:49:02.458691",
     "exception": false,
     "start_time": "2023-07-26T15:49:02.345689",
     "status": "completed"
    },
    "tags": []
   },
   "source": [
    "```\n",
    "options:\n",
    "  -h 显示帮助信息\n",
    "  -s <SOURCE_PATH>                                   人脸图片路径\n",
    "  -t <TARGET_PATH>                                   目标图片或视频路径\n",
    "  -o <OUTPUT_PATH>                                   合成后的文件输出路径\n",
    "  --frame-processor <FRAME_PROCESSOR >               视频帧处理器 (可选: face_swapper, face_enhancer, ...)\n",
    "  --keep-fps                                         保持和目标视频的FPS一致（不设置表示不启用该选项）\n",
    "  --keep-frames                                      保留临时帧（不设置表示不启用该选项）\n",
    "  --skip-audio                                       跳过音频（不设置表示不启用该选项）\n",
    "  --many-faces                                       处理每张脸（不设置表示不启用该选项）\n",
    "  --temp-frame-format <FORMART>                      抽取帧时的临时图片格式（可选：jpg,png）\n",
    "  --temp-frame-quality <QUALITY>                     抽取帧的图像质量（值为 0 到100）\n",
    "  --output-video-encoder <ENCODER>                   合成视频输出的编码器（可选：libx264,libx265,libvpx-vp9,h264_nvenc,hevc_nvenc）\n",
    "  --output-video-quality <QUALITY>                   合成视频输出的图像质量（值为 0 到100）\n",
    "  --max-memory <MAX_MEMORY>                          最大可使用内存（单位为GB）\n",
    "  --execution-provider <PROVIDER>                    处理的设备 (可选: cpu, cuda)\n",
    "  --execution-threads <EXECUTION_THREADS>            处理的线程数\n",
    "  -v, --version 显示版本，并退出\n",
    "```"
   ]
  },
  {
   "cell_type": "code",
   "execution_count": 11,
   "id": "0ae25775",
   "metadata": {
    "execution": {
     "iopub.execute_input": "2023-07-26T15:49:02.685630Z",
     "iopub.status.busy": "2023-07-26T15:49:02.685183Z",
     "iopub.status.idle": "2023-07-26T15:49:02.691308Z",
     "shell.execute_reply": "2023-07-26T15:49:02.690194Z"
    },
    "papermill": {
     "duration": 0.123234,
     "end_time": "2023-07-26T15:49:02.693524",
     "exception": false,
     "start_time": "2023-07-26T15:49:02.570290",
     "status": "completed"
    },
    "tags": []
   },
   "outputs": [],
   "source": [
    "# 下面是本项目的其中一个样例图片、视频。\n",
    "# 将自己的数据上传到Kaggle，替换下面2个路径为你的图片、视频，即可做你自己的合成视频。\n",
    "#    - 可以使用 wget 命令下载你的资源\n",
    "#    - 或者上传资源到Kaggle的Dataset，使用时需要用cp命令将/kaggle/input下的资源拷贝到/kaggle/working下，因为/kaggle/input目录是只读的，而roop会写一些临时数据在你的资源目录下\n",
    "#    - 或者像我一样把你的图片、视频传到 github 上，再用 git clone 拉取过来\n",
    "# 人脸图片\n",
    "source_picture = \"/kaggle/working/roop-kaggle/resource/face_pictrue/looks_like_musk.png\"\n",
    "# 要替换的视频\n",
    "target_video = \"/kaggle/working/roop-kaggle/resource/target_video/tony_trim_1.mp4\"\n",
    "\n",
    "# 合成的视频的输出位置\n",
    "output_video = \"/kaggle/working/output/merged.mp4\""
   ]
  },
  {
   "cell_type": "code",
   "execution_count": 12,
   "id": "91e7fc22",
   "metadata": {
    "execution": {
     "iopub.execute_input": "2023-07-26T15:49:02.923079Z",
     "iopub.status.busy": "2023-07-26T15:49:02.922648Z",
     "iopub.status.idle": "2023-07-26T15:51:29.767933Z",
     "shell.execute_reply": "2023-07-26T15:51:29.766569Z"
    },
    "papermill": {
     "duration": 146.961802,
     "end_time": "2023-07-26T15:51:29.770747",
     "exception": false,
     "start_time": "2023-07-26T15:49:02.808945",
     "status": "completed"
    },
    "tags": []
   },
   "outputs": [
    {
     "name": "stdout",
     "output_type": "stream",
     "text": [
      "arguments:--execution-provider cuda -s /kaggle/working/roop-kaggle/resource/face_pictrue/looks_like_musk.png -t /kaggle/working/roop-kaggle/resource/target_video/tony_trim_1.mp4 -o /kaggle/working/output/merged.mp4 --frame-processor face_swapper --output-video-encoder libx264 --output-video-quality 25 --keep-fps\n",
      "/kaggle/working/roop\n",
      "/opt/conda/lib/python3.10/site-packages/scipy/__init__.py:146: UserWarning: A NumPy version >=1.16.5 and <1.23.0 is required for this version of SciPy (detected version 1.23.5\r\n",
      "  warnings.warn(f\"A NumPy version >={np_minversion} and <{np_maxversion}\"\r\n",
      "Downloading: 529MB [00:02, 229MB/s]                                             \r\n",
      "download_path: /root/.insightface/models/buffalo_l\r\n",
      "Downloading /root/.insightface/models/buffalo_l.zip from https://github.com/deepinsight/insightface/releases/download/v0.7/buffalo_l.zip...\r\n",
      "100%|████████████████████████████████| 281857/281857 [00:05<00:00, 54691.09KB/s]\r\n",
      "Applied providers: ['CUDAExecutionProvider', 'CPUExecutionProvider'], with options: {'CPUExecutionProvider': {}, 'CUDAExecutionProvider': {'device_id': '0', 'gpu_mem_limit': '18446744073709551615', 'gpu_external_alloc': '0', 'gpu_external_free': '0', 'gpu_external_empty_cache': '0', 'cudnn_conv_algo_search': 'EXHAUSTIVE', 'cudnn_conv1d_pad_to_nc1d': '0', 'arena_extend_strategy': 'kNextPowerOfTwo', 'do_copy_in_default_stream': '1', 'enable_cuda_graph': '0', 'cudnn_conv_use_max_workspace': '1', 'tunable_op_enable': '0', 'enable_skip_layer_norm_strict_mode': '0', 'tunable_op_tuning_enable': '0'}}\r\n",
      "find model: /root/.insightface/models/buffalo_l/1k3d68.onnx landmark_3d_68 ['None', 3, 192, 192] 0.0 1.0\r\n",
      "Applied providers: ['CUDAExecutionProvider', 'CPUExecutionProvider'], with options: {'CPUExecutionProvider': {}, 'CUDAExecutionProvider': {'device_id': '0', 'gpu_mem_limit': '18446744073709551615', 'gpu_external_alloc': '0', 'gpu_external_free': '0', 'gpu_external_empty_cache': '0', 'cudnn_conv_algo_search': 'EXHAUSTIVE', 'cudnn_conv1d_pad_to_nc1d': '0', 'arena_extend_strategy': 'kNextPowerOfTwo', 'do_copy_in_default_stream': '1', 'enable_cuda_graph': '0', 'cudnn_conv_use_max_workspace': '1', 'tunable_op_enable': '0', 'enable_skip_layer_norm_strict_mode': '0', 'tunable_op_tuning_enable': '0'}}\r\n",
      "find model: /root/.insightface/models/buffalo_l/2d106det.onnx landmark_2d_106 ['None', 3, 192, 192] 0.0 1.0\r\n",
      "Applied providers: ['CUDAExecutionProvider', 'CPUExecutionProvider'], with options: {'CPUExecutionProvider': {}, 'CUDAExecutionProvider': {'device_id': '0', 'gpu_mem_limit': '18446744073709551615', 'gpu_external_alloc': '0', 'gpu_external_free': '0', 'gpu_external_empty_cache': '0', 'cudnn_conv_algo_search': 'EXHAUSTIVE', 'cudnn_conv1d_pad_to_nc1d': '0', 'arena_extend_strategy': 'kNextPowerOfTwo', 'do_copy_in_default_stream': '1', 'enable_cuda_graph': '0', 'cudnn_conv_use_max_workspace': '1', 'tunable_op_enable': '0', 'enable_skip_layer_norm_strict_mode': '0', 'tunable_op_tuning_enable': '0'}}\r\n",
      "find model: /root/.insightface/models/buffalo_l/det_10g.onnx detection [1, 3, '?', '?'] 127.5 128.0\r\n",
      "Applied providers: ['CUDAExecutionProvider', 'CPUExecutionProvider'], with options: {'CPUExecutionProvider': {}, 'CUDAExecutionProvider': {'device_id': '0', 'gpu_mem_limit': '18446744073709551615', 'gpu_external_alloc': '0', 'gpu_external_free': '0', 'gpu_external_empty_cache': '0', 'cudnn_conv_algo_search': 'EXHAUSTIVE', 'cudnn_conv1d_pad_to_nc1d': '0', 'arena_extend_strategy': 'kNextPowerOfTwo', 'do_copy_in_default_stream': '1', 'enable_cuda_graph': '0', 'cudnn_conv_use_max_workspace': '1', 'tunable_op_enable': '0', 'enable_skip_layer_norm_strict_mode': '0', 'tunable_op_tuning_enable': '0'}}\r\n",
      "find model: /root/.insightface/models/buffalo_l/genderage.onnx genderage ['None', 3, 96, 96] 0.0 1.0\r\n",
      "Applied providers: ['CUDAExecutionProvider', 'CPUExecutionProvider'], with options: {'CPUExecutionProvider': {}, 'CUDAExecutionProvider': {'device_id': '0', 'gpu_mem_limit': '18446744073709551615', 'gpu_external_alloc': '0', 'gpu_external_free': '0', 'gpu_external_empty_cache': '0', 'cudnn_conv_algo_search': 'EXHAUSTIVE', 'cudnn_conv1d_pad_to_nc1d': '0', 'arena_extend_strategy': 'kNextPowerOfTwo', 'do_copy_in_default_stream': '1', 'enable_cuda_graph': '0', 'cudnn_conv_use_max_workspace': '1', 'tunable_op_enable': '0', 'enable_skip_layer_norm_strict_mode': '0', 'tunable_op_tuning_enable': '0'}}\r\n",
      "find model: /root/.insightface/models/buffalo_l/w600k_r50.onnx recognition ['None', 3, 112, 112] 127.5 127.5\r\n",
      "set det-size: (640, 640)\r\n",
      "Pre-trained weights will be downloaded.\r\n",
      "Downloading...\r\n",
      "From: https://github.com/bhky/opennsfw2/releases/download/v0.1.0/open_nsfw_weights.h5\r\n",
      "To: /root/.opennsfw2/weights/open_nsfw_weights.h5\r\n",
      "100%|███████████████████████████████████████| 24.2M/24.2M [00:00<00:00, 154MB/s]\r\n",
      "100%|████████████████████████████████████████| 348/348 [00:03<00:00, 115.95it/s]\r\n",
      "[ROOP.CORE] Creating temporary resources...\r\n",
      "[ROOP.CORE] Extracting frames with 24.0 FPS...\r\n",
      "[ROOP.FACE-SWAPPER] Progressing...\r\n",
      "Processing:   0%|                                    | 0/347 [00:00<?, ?frame/s]Applied providers: ['CUDAExecutionProvider', 'CPUExecutionProvider'], with options: {'CPUExecutionProvider': {}, 'CUDAExecutionProvider': {'device_id': '0', 'gpu_mem_limit': '18446744073709551615', 'gpu_external_alloc': '0', 'gpu_external_free': '0', 'gpu_external_empty_cache': '0', 'cudnn_conv_algo_search': 'EXHAUSTIVE', 'cudnn_conv1d_pad_to_nc1d': '0', 'arena_extend_strategy': 'kNextPowerOfTwo', 'do_copy_in_default_stream': '1', 'enable_cuda_graph': '0', 'cudnn_conv_use_max_workspace': '1', 'tunable_op_enable': '0', 'enable_skip_layer_norm_strict_mode': '0', 'tunable_op_tuning_enable': '0'}}\r\n",
      "inswapper-shape: [1, 3, 128, 128]\r\n",
      "Processing: 100%|█| 347/347 [01:10<00:00,  4.94frame/s, memory_usage=04.79GB, ex\r\n",
      "[ROOP.CORE] Creating video with 24.0 FPS...\r\n",
      "[ROOP.CORE] Restoring audio...\r\n",
      "[ROOP.CORE] Cleaning temporary resources...\r\n",
      "[ROOP.CORE] Processing to video succeed!\r\n"
     ]
    }
   ],
   "source": [
    "device = \"cuda\"  # 默认是cpu，如果申请不到显卡可以换cpu，速度会变得很慢\n",
    "frame_processor = \"face_swapper\"\n",
    "output_video_encoder = \"libx264\"\n",
    "output_video_quality = \"25\"\n",
    "\n",
    "# 参数\n",
    "arguments = f\"--execution-provider {device} \" \\\n",
    "       f\"-s {source_picture} -t {target_video} -o {output_video} \" \\\n",
    "       f\"--frame-processor {frame_processor} --output-video-encoder {output_video_encoder} --output-video-quality {output_video_quality} \" \\\n",
    "       f\"--keep-fps\"\n",
    "print(\"arguments:\" + arguments)\n",
    "\n",
    "# 进入到roop项目下\n",
    "%cd /kaggle/working/roop\n",
    "# 开始合成\n",
    "!python run.py $arguments"
   ]
  },
  {
   "cell_type": "markdown",
   "id": "6af4f302",
   "metadata": {
    "papermill": {
     "duration": 0.150314,
     "end_time": "2023-07-26T15:51:30.138112",
     "exception": false,
     "start_time": "2023-07-26T15:51:29.987798",
     "status": "completed"
    },
    "tags": []
   },
   "source": [
    "### 如果上面输出“Processing to video succeed!”，说明执行成功\n",
    "### 合成后的视频见本页面右侧栏，Data的目录 /kaggle/working/output/ 下 "
   ]
  },
  {
   "cell_type": "code",
   "execution_count": 13,
   "id": "1ceee92e",
   "metadata": {
    "execution": {
     "iopub.execute_input": "2023-07-26T15:51:30.457080Z",
     "iopub.status.busy": "2023-07-26T15:51:30.455983Z",
     "iopub.status.idle": "2023-07-26T15:51:31.572390Z",
     "shell.execute_reply": "2023-07-26T15:51:31.570716Z"
    },
    "papermill": {
     "duration": 1.275887,
     "end_time": "2023-07-26T15:51:31.575213",
     "exception": false,
     "start_time": "2023-07-26T15:51:30.299326",
     "status": "completed"
    },
    "tags": []
   },
   "outputs": [
    {
     "name": "stdout",
     "output_type": "stream",
     "text": [
      "merged.mp4\r\n"
     ]
    }
   ],
   "source": [
    "!ls /kaggle/working/output/ "
   ]
  }
 ],
 "metadata": {
  "kernelspec": {
   "display_name": "Python 3",
   "language": "python",
   "name": "python3"
  },
  "language_info": {
   "codemirror_mode": {
    "name": "ipython",
    "version": 3
   },
   "file_extension": ".py",
   "mimetype": "text/x-python",
   "name": "python",
   "nbconvert_exporter": "python",
   "pygments_lexer": "ipython3",
   "version": "3.10.12"
  },
  "papermill": {
   "default_parameters": {},
   "duration": 488.982637,
   "end_time": "2023-07-26T15:51:32.550568",
   "environment_variables": {},
   "exception": null,
   "input_path": "__notebook__.ipynb",
   "output_path": "__notebook__.ipynb",
   "parameters": {},
   "start_time": "2023-07-26T15:43:23.567931",
   "version": "2.4.0"
  }
 },
 "nbformat": 4,
 "nbformat_minor": 5
}
